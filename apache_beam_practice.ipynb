{
  "nbformat": 4,
  "nbformat_minor": 0,
  "metadata": {
    "colab": {
      "provenance": [],
      "authorship_tag": "ABX9TyO5OO8z9TWgywNQw0envxb8",
      "include_colab_link": true
    },
    "kernelspec": {
      "name": "python3",
      "display_name": "Python 3"
    },
    "language_info": {
      "name": "python"
    }
  },
  "cells": [
    {
      "cell_type": "markdown",
      "metadata": {
        "id": "view-in-github",
        "colab_type": "text"
      },
      "source": [
        "<a href=\"https://colab.research.google.com/github/snatarajanbe/apache-beam/blob/main/apache_beam_practice.ipynb\" target=\"_parent\"><img src=\"https://colab.research.google.com/assets/colab-badge.svg\" alt=\"Open In Colab\"/></a>"
      ]
    },
    {
      "cell_type": "code",
      "execution_count": null,
      "metadata": {
        "colab": {
          "base_uri": "https://localhost:8080/",
          "height": 141
        },
        "id": "ltpz3o2Nv1wj",
        "outputId": "fb1aad98-be30-48a3-8d18-a0e2412e30f6"
      },
      "outputs": [
        {
          "output_type": "error",
          "ename": "NameError",
          "evalue": "name 'python' is not defined",
          "traceback": [
            "\u001b[0;31m---------------------------------------------------------------------------\u001b[0m",
            "\u001b[0;31mNameError\u001b[0m                                 Traceback (most recent call last)",
            "\u001b[0;32m<ipython-input-1-a4637bbefc43>\u001b[0m in \u001b[0;36m<cell line: 1>\u001b[0;34m()\u001b[0m\n\u001b[0;32m----> 1\u001b[0;31m \u001b[0mpython\u001b[0m \u001b[0;34m-\u001b[0m\u001b[0;34m-\u001b[0m\u001b[0mversion\u001b[0m\u001b[0;34m\u001b[0m\u001b[0;34m\u001b[0m\u001b[0m\n\u001b[0m",
            "\u001b[0;31mNameError\u001b[0m: name 'python' is not defined"
          ]
        }
      ],
      "source": [
        "python --version"
      ]
    },
    {
      "cell_type": "code",
      "source": [
        "import sys"
      ],
      "metadata": {
        "id": "suRrFN3RwBpa"
      },
      "execution_count": 3,
      "outputs": []
    },
    {
      "cell_type": "code",
      "source": [
        "print(sys.version)\n",
        "!{'pip install --quiet apache_beam'}"
      ],
      "metadata": {
        "colab": {
          "base_uri": "https://localhost:8080/"
        },
        "id": "XQaIfj2uwGHg",
        "outputId": "c09432ee-e9e6-4705-c2cc-d3605d373d75"
      },
      "execution_count": 4,
      "outputs": [
        {
          "output_type": "stream",
          "name": "stdout",
          "text": [
            "3.10.12 (main, Nov 20 2023, 15:14:05) [GCC 11.4.0]\n",
            "\u001b[2K     \u001b[90m━━━━━━━━━━━━━━━━━━━━━━━━━━━━━━━━━━━━━━━━\u001b[0m \u001b[32m14.8/14.8 MB\u001b[0m \u001b[31m28.0 MB/s\u001b[0m eta \u001b[36m0:00:00\u001b[0m\n",
            "\u001b[2K     \u001b[90m━━━━━━━━━━━━━━━━━━━━━━━━━━━━━━━━━━━━━━━━\u001b[0m \u001b[32m89.7/89.7 kB\u001b[0m \u001b[31m7.0 MB/s\u001b[0m eta \u001b[36m0:00:00\u001b[0m\n",
            "\u001b[?25h  Preparing metadata (setup.py) ... \u001b[?25l\u001b[?25hdone\n",
            "\u001b[2K     \u001b[90m━━━━━━━━━━━━━━━━━━━━━━━━━━━━━━━━━━━━━━━━\u001b[0m \u001b[32m138.5/138.5 kB\u001b[0m \u001b[31m16.3 MB/s\u001b[0m eta \u001b[36m0:00:00\u001b[0m\n",
            "\u001b[2K     \u001b[90m━━━━━━━━━━━━━━━━━━━━━━━━━━━━━━━━━━━━━━━━\u001b[0m \u001b[32m152.0/152.0 kB\u001b[0m \u001b[31m17.9 MB/s\u001b[0m eta \u001b[36m0:00:00\u001b[0m\n",
            "\u001b[?25h  Preparing metadata (setup.py) ... \u001b[?25l\u001b[?25hdone\n",
            "\u001b[2K     \u001b[90m━━━━━━━━━━━━━━━━━━━━━━━━━━━━━━━━━━━━━━━━\u001b[0m \u001b[32m3.1/3.1 MB\u001b[0m \u001b[31m47.6 MB/s\u001b[0m eta \u001b[36m0:00:00\u001b[0m\n",
            "\u001b[2K     \u001b[90m━━━━━━━━━━━━━━━━━━━━━━━━━━━━━━━━━━━━━━━━\u001b[0m \u001b[32m43.5/43.5 kB\u001b[0m \u001b[31m5.6 MB/s\u001b[0m eta \u001b[36m0:00:00\u001b[0m\n",
            "\u001b[?25h  Preparing metadata (setup.py) ... \u001b[?25l\u001b[?25hdone\n",
            "\u001b[2K     \u001b[90m━━━━━━━━━━━━━━━━━━━━━━━━━━━━━━━━━━━━━━━━\u001b[0m \u001b[32m1.0/1.0 MB\u001b[0m \u001b[31m43.1 MB/s\u001b[0m eta \u001b[36m0:00:00\u001b[0m\n",
            "\u001b[2K     \u001b[90m━━━━━━━━━━━━━━━━━━━━━━━━━━━━━━━━━━━━━━━━\u001b[0m \u001b[32m17.3/17.3 MB\u001b[0m \u001b[31m29.5 MB/s\u001b[0m eta \u001b[36m0:00:00\u001b[0m\n",
            "\u001b[2K     \u001b[90m━━━━━━━━━━━━━━━━━━━━━━━━━━━━━━━━━━━━━━━━\u001b[0m \u001b[32m677.2/677.2 kB\u001b[0m \u001b[31m41.8 MB/s\u001b[0m eta \u001b[36m0:00:00\u001b[0m\n",
            "\u001b[2K     \u001b[90m━━━━━━━━━━━━━━━━━━━━━━━━━━━━━━━━━━━━━━━━\u001b[0m \u001b[32m5.4/5.4 MB\u001b[0m \u001b[31m54.4 MB/s\u001b[0m eta \u001b[36m0:00:00\u001b[0m\n",
            "\u001b[?25h  Preparing metadata (setup.py) ... \u001b[?25l\u001b[?25hdone\n",
            "  Preparing metadata (setup.py) ... \u001b[?25l\u001b[?25hdone\n",
            "\u001b[2K     \u001b[90m━━━━━━━━━━━━━━━━━━━━━━━━━━━━━━━━━━━━━━━━\u001b[0m \u001b[32m307.7/307.7 kB\u001b[0m \u001b[31m26.0 MB/s\u001b[0m eta \u001b[36m0:00:00\u001b[0m\n",
            "\u001b[?25h  Building wheel for crcmod (setup.py) ... \u001b[?25l\u001b[?25hdone\n",
            "  Building wheel for dill (setup.py) ... \u001b[?25l\u001b[?25hdone\n",
            "  Building wheel for hdfs (setup.py) ... \u001b[?25l\u001b[?25hdone\n",
            "  Building wheel for pyjsparser (setup.py) ... \u001b[?25l\u001b[?25hdone\n",
            "  Building wheel for docopt (setup.py) ... \u001b[?25l\u001b[?25hdone\n"
          ]
        }
      ]
    },
    {
      "cell_type": "code",
      "source": [
        "import apache_beam as beam\n",
        "p1 = beam.Pipeline()\n",
        "\n",
        "attendence_count =  (\n",
        "    p1\n",
        "    |beam.io.ReadFromText('input/dept_data.txt')\n",
        "    |beam.Map(lambda record: record.split(','))\n",
        "    |beam.Filter(lambda record: record[3] == 'Accounts')\n",
        "    |beam.Map(lambda record: (record[1], 1))\n",
        "    |beam.CombinePerKey(sum)\n",
        "    |beam.io.WriteToText('output/count_file.txt')\n",
        ")\n",
        "\n",
        "p1.run()"
      ],
      "metadata": {
        "id": "bBOKa-uvwUDY",
        "colab": {
          "base_uri": "https://localhost:8080/",
          "height": 72
        },
        "outputId": "afdecec7-0edb-42bc-eaf7-b8c9930419a5"
      },
      "execution_count": 5,
      "outputs": [
        {
          "output_type": "stream",
          "name": "stderr",
          "text": [
            "WARNING:apache_beam.runners.interactive.interactive_environment:Dependencies required for Interactive Beam PCollection visualization are not available, please use: `pip install apache-beam[interactive]` to install necessary dependencies to enable all data visualization features.\n"
          ]
        },
        {
          "output_type": "display_data",
          "data": {
            "application/javascript": [
              "\n",
              "        if (typeof window.interactive_beam_jquery == 'undefined') {\n",
              "          var jqueryScript = document.createElement('script');\n",
              "          jqueryScript.src = 'https://code.jquery.com/jquery-3.4.1.slim.min.js';\n",
              "          jqueryScript.type = 'text/javascript';\n",
              "          jqueryScript.onload = function() {\n",
              "            var datatableScript = document.createElement('script');\n",
              "            datatableScript.src = 'https://cdn.datatables.net/1.10.20/js/jquery.dataTables.min.js';\n",
              "            datatableScript.type = 'text/javascript';\n",
              "            datatableScript.onload = function() {\n",
              "              window.interactive_beam_jquery = jQuery.noConflict(true);\n",
              "              window.interactive_beam_jquery(document).ready(function($){\n",
              "                \n",
              "              });\n",
              "            }\n",
              "            document.head.appendChild(datatableScript);\n",
              "          };\n",
              "          document.head.appendChild(jqueryScript);\n",
              "        } else {\n",
              "          window.interactive_beam_jquery(document).ready(function($){\n",
              "            \n",
              "          });\n",
              "        }"
            ]
          },
          "metadata": {}
        },
        {
          "output_type": "execute_result",
          "data": {
            "text/plain": [
              "<apache_beam.runners.portability.fn_api_runner.fn_runner.RunnerResult at 0x7c7a28729ae0>"
            ]
          },
          "metadata": {},
          "execution_count": 5
        }
      ]
    },
    {
      "cell_type": "code",
      "source": [
        "!{('head -n 20 output/count_file.txt-00000-of-00001')}"
      ],
      "metadata": {
        "colab": {
          "base_uri": "https://localhost:8080/"
        },
        "id": "X-6PfKjS4wLu",
        "outputId": "1a8f739a-93fd-42c6-bad4-0065b609b9cb"
      },
      "execution_count": 7,
      "outputs": [
        {
          "output_type": "stream",
          "name": "stdout",
          "text": [
            "('Marco', 31)\n",
            "('Rebekah', 31)\n",
            "('Itoe', 31)\n",
            "('Edouard', 31)\n",
            "('Kyle', 62)\n",
            "('Kumiko', 31)\n",
            "('Gaston', 31)\n",
            "('Ayumi', 30)\n"
          ]
        }
      ]
    },
    {
      "cell_type": "code",
      "source": [
        "import apache_beam as beam\n",
        "p1 = beam.Pipeline()\n",
        "\n",
        "string_array = (\n",
        "    p1\n",
        "    |beam.Create(['I am great', 'I am good', 'I am excellent'])\n",
        "    |beam.io.WriteToText('output/test/string_array')\n",
        ")\n",
        "\n",
        "p1.run()"
      ],
      "metadata": {
        "colab": {
          "base_uri": "https://localhost:8080/"
        },
        "id": "0onPae2k7nUP",
        "outputId": "87eece45-e9a9-445a-c3bc-11b01e59d1ec"
      },
      "execution_count": null,
      "outputs": [
        {
          "output_type": "execute_result",
          "data": {
            "text/plain": [
              "<apache_beam.runners.portability.fn_api_runner.fn_runner.RunnerResult at 0x7a32bb4ddf60>"
            ]
          },
          "metadata": {},
          "execution_count": 20
        }
      ]
    },
    {
      "cell_type": "code",
      "source": [
        "!{('head -n 20 /content/output/test/string_array-00000-of-00001')}"
      ],
      "metadata": {
        "colab": {
          "base_uri": "https://localhost:8080/"
        },
        "id": "T3fmlMXK8_8H",
        "outputId": "aa68b2bf-a9da-4879-8fb5-090c9c6205c3"
      },
      "execution_count": null,
      "outputs": [
        {
          "output_type": "stream",
          "name": "stdout",
          "text": [
            "I am great\n",
            "I am good\n",
            "I am excellent\n"
          ]
        }
      ]
    },
    {
      "cell_type": "code",
      "source": [
        "import apache_beam as beam\n",
        "b1 = beam.Pipeline()\n",
        "\n",
        "number_array = (\n",
        "    p1\n",
        "    |beam.Create([10,20,30,40,50,60,70])\n",
        "    |beam.io.WriteToText('/content/output/test/number_array')\n",
        ")\n",
        "\n",
        "p1.run()"
      ],
      "metadata": {
        "colab": {
          "base_uri": "https://localhost:8080/"
        },
        "id": "wqKojKPe9VWc",
        "outputId": "d5decd8b-5b7d-47b9-e423-316ecd9ba246"
      },
      "execution_count": null,
      "outputs": [
        {
          "output_type": "stream",
          "name": "stderr",
          "text": [
            "WARNING:apache_beam.io.filebasedsink:Deleting 1 existing files in target path matching: -*-of-%(num_shards)05d\n"
          ]
        },
        {
          "output_type": "execute_result",
          "data": {
            "text/plain": [
              "<apache_beam.runners.portability.fn_api_runner.fn_runner.RunnerResult at 0x7a32b9945360>"
            ]
          },
          "metadata": {},
          "execution_count": 23
        }
      ]
    },
    {
      "cell_type": "code",
      "source": [
        "!{('head -n 20 /content/output/test/number_array-00000-of-00001')}"
      ],
      "metadata": {
        "colab": {
          "base_uri": "https://localhost:8080/"
        },
        "id": "1kK8aUtd9sRT",
        "outputId": "be7483fa-91de-4509-99c8-5f4c761329cd"
      },
      "execution_count": null,
      "outputs": [
        {
          "output_type": "stream",
          "name": "stdout",
          "text": [
            "10\n",
            "20\n",
            "30\n",
            "40\n",
            "50\n",
            "60\n",
            "70\n"
          ]
        }
      ]
    },
    {
      "cell_type": "code",
      "source": [
        "import apache_beam as beam\n",
        "b1 = beam.Pipeline()\n",
        "\n",
        "tuple_data = (\n",
        "    b1\n",
        "    |beam.Create([('Scala',100), ('Java',200), ('python', 300), ('go', 400)])\n",
        "    |beam.io.WriteToText('output/test/tuple_data')\n",
        ")\n",
        "\n",
        "b1.run()"
      ],
      "metadata": {
        "colab": {
          "base_uri": "https://localhost:8080/"
        },
        "id": "wOI-pNCr9zt8",
        "outputId": "0a11d727-cf2c-4185-fcc7-70716435d9f7"
      },
      "execution_count": null,
      "outputs": [
        {
          "output_type": "execute_result",
          "data": {
            "text/plain": [
              "<apache_beam.runners.portability.fn_api_runner.fn_runner.RunnerResult at 0x7a32bb833580>"
            ]
          },
          "metadata": {},
          "execution_count": 26
        }
      ]
    },
    {
      "cell_type": "code",
      "source": [
        "!{('head -n 20 /content/output/test/tuple_data-00000-of-00001')}"
      ],
      "metadata": {
        "colab": {
          "base_uri": "https://localhost:8080/"
        },
        "id": "jZ6Sq0Kw-Xds",
        "outputId": "bfe3f2b7-22fe-48b9-95a7-0cb088a6bb0c"
      },
      "execution_count": null,
      "outputs": [
        {
          "output_type": "stream",
          "name": "stdout",
          "text": [
            "('Scala', 100)\n",
            "('Java', 200)\n",
            "('python', 300)\n",
            "('go', 400)\n"
          ]
        }
      ]
    },
    {
      "cell_type": "code",
      "source": [
        "import apache_beam as beam\n",
        "p1 = beam.Pipeline()\n",
        "\n",
        "dict_data = (\n",
        "    p1\n",
        "    |beam.Create({'row1': [1,2,3,4,5,6],\n",
        "                  'row2': [10,20,30,40,50]})\n",
        "    |beam.io.WriteToText('output/test/dict_data')\n",
        "\n",
        ")\n",
        "p1.run()"
      ],
      "metadata": {
        "colab": {
          "base_uri": "https://localhost:8080/"
        },
        "id": "d2Yh-IdK-nKz",
        "outputId": "8146e2bb-e073-42ac-92b6-733f79a83004"
      },
      "execution_count": null,
      "outputs": [
        {
          "output_type": "execute_result",
          "data": {
            "text/plain": [
              "<apache_beam.runners.portability.fn_api_runner.fn_runner.RunnerResult at 0x7a32bb5241c0>"
            ]
          },
          "metadata": {},
          "execution_count": 28
        }
      ]
    },
    {
      "cell_type": "code",
      "source": [
        "!{('head -n 20 /content/output/test/dict_data-00000-of-00001')}"
      ],
      "metadata": {
        "colab": {
          "base_uri": "https://localhost:8080/"
        },
        "id": "m1UB19BM_S57",
        "outputId": "1e6d7f70-5d72-4c8f-b771-53f9bdbb8833"
      },
      "execution_count": 1,
      "outputs": [
        {
          "output_type": "stream",
          "name": "stdout",
          "text": [
            "head: cannot open '/content/output/test/dict_data-00000-of-00001' for reading: No such file or directory\n"
          ]
        }
      ]
    },
    {
      "cell_type": "code",
      "source": [
        "import apache_beam as beam\n",
        "\n",
        "p1 = beam.Pipeline()\n",
        "\n",
        "inputPT = (\n",
        "    p1\n",
        "    |'Read from file' >> beam.io.ReadFromText('input/dept_data.txt')\n",
        "    |'Split each row by comma' >> beam.Map(lambda record: record.split(','))\n",
        "\n",
        ")\n",
        "\n",
        "account_count = (\n",
        "    inputPT\n",
        "    |'Filter Account Records' >> beam.Filter(lambda record: record[3] == 'Account')\n",
        "    |beam.Map(lambda record: (record[3], 1))\n",
        "    |beam.CombinePerKey(sum)\n",
        "    |'Write into output file' >> beam.io.WriteToText('output/account_file')\n",
        "\n",
        ")\n",
        "\n",
        "hr_count = (\n",
        "    inputPT\n",
        "    |'Filter HR Records' >> beam.Filter(lambda record: record[3] == 'HR')\n",
        "    |beam.Map(lambda record: (record[3], 1))\n",
        "    |'hr combine records' >> beam.CombinePerKey(sum)\n",
        "    |'Write into file' >> beam.io.WriteToText('output/hr_file')\n",
        ")\n",
        "\n",
        "p1.run()\n"
      ],
      "metadata": {
        "id": "YM5Hgf0w_ZkE",
        "colab": {
          "base_uri": "https://localhost:8080/"
        },
        "outputId": "e3593d9d-f2c4-42d7-9153-3317f2be24d7"
      },
      "execution_count": 9,
      "outputs": [
        {
          "output_type": "execute_result",
          "data": {
            "text/plain": [
              "<apache_beam.runners.portability.fn_api_runner.fn_runner.RunnerResult at 0x7c7a27569bd0>"
            ]
          },
          "metadata": {},
          "execution_count": 9
        }
      ]
    },
    {
      "cell_type": "code",
      "source": [
        "import apache_beam as beam\n",
        "\n",
        "p1 = beam.Pipeline()\n",
        "\n",
        "inputPT = (\n",
        "    p1\n",
        "    |'Read from file' >> beam.io.ReadFromText('input/dept_data.txt')\n",
        "    |'Split each row by comma' >> beam.Map(lambda record: record.split(','))\n",
        "\n",
        ")\n",
        "\n",
        "account_count = (\n",
        "    inputPT\n",
        "    |'Filter Account Records' >> beam.Filter(lambda record: record[3] == 'Accounts')\n",
        "    |'Maping account data count' >> beam.Map(lambda record: (record[1], 1))\n",
        "    |'account combine records' >> beam.CombinePerKey(sum)\n",
        "    #|'Write into output file' >> beam.io.WriteToText('output/account_file')\n",
        "\n",
        ")\n",
        "\n",
        "hr_count = (\n",
        "    inputPT\n",
        "    |'Filter HR Records' >> beam.Filter(lambda record: record[3] == 'HR')\n",
        "    |'Mapping hr data count' >> beam.Map(lambda record: (record[1], 1))\n",
        "    |'hr combine records' >> beam.CombinePerKey(sum)\n",
        "    #|'Write into file' >> beam.io.WriteToText('output/hr_file')\n",
        ")\n",
        "\n",
        "flatten_data = (\n",
        "    (account_count, hr_count)\n",
        "    |beam.Flatten()\n",
        "    |beam.io.WriteToText('output/both')\n",
        ")\n",
        "\n",
        "p1.run()\n",
        "\n",
        "!{('head -n 20 /content/output/both-00000-of-00001')}"
      ],
      "metadata": {
        "colab": {
          "base_uri": "https://localhost:8080/"
        },
        "id": "MIk41-0nD1qe",
        "outputId": "78dc1491-6dd2-4d86-d8a5-8afda38fc1d6"
      },
      "execution_count": 20,
      "outputs": [
        {
          "output_type": "stream",
          "name": "stderr",
          "text": [
            "WARNING:apache_beam.io.filebasedsink:Deleting 1 existing files in target path matching: -*-of-%(num_shards)05d\n"
          ]
        },
        {
          "output_type": "stream",
          "name": "stdout",
          "text": [
            "('Marco', 31)\n",
            "('Rebekah', 31)\n",
            "('Itoe', 31)\n",
            "('Edouard', 31)\n",
            "('Kyle', 62)\n",
            "('Kumiko', 31)\n",
            "('Gaston', 31)\n",
            "('Ayumi', 30)\n",
            "('Beryl', 62)\n",
            "('Olga', 31)\n",
            "('Leslie', 31)\n",
            "('Mindy', 31)\n",
            "('Vicky', 31)\n",
            "('Richard', 31)\n",
            "('Kirk', 31)\n",
            "('Kaori', 31)\n",
            "('Oscar', 31)\n"
          ]
        }
      ]
    },
    {
      "cell_type": "code",
      "source": [
        "import apache_beam as beam\n",
        "\n",
        "p1 = beam.Pipeline()\n",
        "\n",
        "class SplitRow(beam.DoFn):\n",
        "  def process(self, record):\n",
        "    return [record.split(',')]\n",
        "\n",
        "class FilterAccounts(beam.DoFn):\n",
        "  def process(self, element):\n",
        "    if element[3] == 'Accounts':\n",
        "      return [element]\n",
        "\n",
        "class KeyPairing(beam.DoFn):\n",
        "  def process(self, element):\n",
        "    return [(element[3] + ', ' + element[1], 1)]\n",
        "\n",
        "class Counting(beam.DoFn):\n",
        "  def process(self, element):\n",
        "    (key, value) = element\n",
        "    return [(key, sum(value))]\n",
        "\n",
        "\n",
        "account_count = (\n",
        "    p1\n",
        "    |beam.io.ReadFromText('input/dept_data.txt')\n",
        "    |beam.ParDo(SplitRow())\n",
        "    |beam.ParDo(FilterAccounts())\n",
        "    |'Pairing' >> beam.ParDo(KeyPairing())\n",
        "    |'GroupingByKey' >> beam.GroupByKey()\n",
        "    |'SummingUpValueByKey' >> beam.ParDo(Counting())\n",
        "    |beam.io.WriteToText('output/pardo_example')\n",
        ")\n",
        "\n",
        "p1.run()\n",
        "\n",
        "!{('head -n 20 /content/output/pardo_example-00000-of-00001')}"
      ],
      "metadata": {
        "colab": {
          "base_uri": "https://localhost:8080/"
        },
        "id": "SfNu5vkBFX-t",
        "outputId": "3dd0b7d0-ec6e-47f6-e469-69e0f44df445"
      },
      "execution_count": 36,
      "outputs": [
        {
          "output_type": "stream",
          "name": "stderr",
          "text": [
            "WARNING:apache_beam.io.filebasedsink:Deleting 1 existing files in target path matching: -*-of-%(num_shards)05d\n"
          ]
        },
        {
          "output_type": "stream",
          "name": "stdout",
          "text": [
            "('Accounts, Marco', 31)\n",
            "('Accounts, Rebekah', 31)\n",
            "('Accounts, Itoe', 31)\n",
            "('Accounts, Edouard', 31)\n",
            "('Accounts, Kyle', 62)\n",
            "('Accounts, Kumiko', 31)\n",
            "('Accounts, Gaston', 31)\n",
            "('Accounts, Ayumi', 30)\n"
          ]
        }
      ]
    },
    {
      "cell_type": "code",
      "source": [
        "import apache_beam as beam\n",
        "\n",
        "p1 = beam.Pipeline()\n",
        "\n",
        "class CombinerFunction(beam.CombineFn):\n",
        "  def create_accumulator(self):\n",
        "    return (0.0, 0)\n",
        "\n",
        "  def add_input(self, accumulator, input):\n",
        "    (key, value) = accumulator\n",
        "    return (key + input , value + 1) # (0.0 + 15 + 5, 0 + 1 + 1) (0.0 + 7 + 7, 0 + 1 + 1) (0.0 + 9 + + 23, 0 + 1 + 1) (0.0 + 13 + 5, 0 + 1 + 1) => (20, 2) (14, 2) (32, 2) (18, 2)\n",
        "\n",
        "  def merge_accumulators(self, accumulators):\n",
        "    individual_sum, individual_count = zip(*accumulators)  # (20, 2) (14, 2) (32, 2) (18, 2) => zip((20,14,32,18), (2,2,2,2))\n",
        "    return (sum(individual_sum), sum(individual_count))    # (84, 8)\n",
        "\n",
        "  def extract_output(self, merged_accumulator):\n",
        "    (sum_total, element_total) = merged_accumulator   #  (84, 8)\n",
        "    return sum_total / element_total if element_total else float('NaN') # 84 / 8\n",
        "\n",
        "combine_total = (\n",
        "    p1\n",
        "    |beam.Create([15,5,7,7,9,23,13,5])\n",
        "    |beam.CombineGlobally(CombinerFunction())\n",
        "    |beam.io.WriteToText('output/combiner_result')\n",
        ")\n",
        "\n",
        "p1.run()\n",
        "\n",
        "!{('head -n 20 output/combiner_result-00000-of-00001')}"
      ],
      "metadata": {
        "colab": {
          "base_uri": "https://localhost:8080/"
        },
        "id": "2NuSS2FRU-wG",
        "outputId": "676ac813-d363-47e5-bc7d-d1ce083ad5ca"
      },
      "execution_count": 43,
      "outputs": [
        {
          "output_type": "stream",
          "name": "stderr",
          "text": [
            "WARNING:apache_beam.io.filebasedsink:Deleting 1 existing files in target path matching: -*-of-%(num_shards)05d\n"
          ]
        },
        {
          "output_type": "stream",
          "name": "stdout",
          "text": [
            "10.5\n"
          ]
        }
      ]
    },
    {
      "cell_type": "code",
      "source": [
        "84 / 8"
      ],
      "metadata": {
        "colab": {
          "base_uri": "https://localhost:8080/"
        },
        "id": "v9aql1WwfFFS",
        "outputId": "2c234993-253e-4d05-9adc-a4b5cb0e5c2d"
      },
      "execution_count": 44,
      "outputs": [
        {
          "output_type": "execute_result",
          "data": {
            "text/plain": [
              "10.5"
            ]
          },
          "metadata": {},
          "execution_count": 44
        }
      ]
    },
    {
      "cell_type": "code",
      "source": [
        "import apache_beam as beam\n",
        "p1 = beam.Pipeline()\n",
        "\n",
        "read_input = (\n",
        "    p1\n",
        "    |beam.io.ReadFromText('input/dept_data.txt')\n",
        "    |beam.Map(lambda record: record.split(','))\n",
        ")\n",
        "\n",
        "def filterOn(element):\n",
        "  (key, value) = element\n",
        "  if value > 30:\n",
        "    return (key, value)\n",
        "\n",
        "def formatOn(element):\n",
        "  (name, count) = element\n",
        "  return ', '.join((name, str(count), 'Regular employees'))\n",
        "\n",
        "account_count = (\n",
        "    read_input\n",
        "    |beam.Filter(lambda record: record[3] == 'Accounts')\n",
        "    |beam.Map(lambda record: (record[1], 1))\n",
        "    |'account combine' >> beam.CombinePerKey(sum)\n",
        "    |'account filter' >> beam.Filter(filterOn)\n",
        "    |'account format' >> beam.Map(formatOn)\n",
        "    |'account write' >> beam.io.WriteToText('output/account_count_file')\n",
        ")\n",
        "\n",
        "hr_count = (\n",
        "    read_input\n",
        "    |beam.Filter(lambda record: record[3] == 'HR')\n",
        "    |beam.Map(lambda record: (record[1], 1))\n",
        "    |'hr combine' >> beam.CombinePerKey(sum)\n",
        "    |'hr filter' >> beam.Filter(filterOn)\n",
        "    |'hr format' >> beam.Map(formatOn)\n",
        "    |'hr write' >> beam.io.WriteToText('output/hr_count_file')\n",
        ")\n",
        "\n",
        "p1.run()\n",
        "\n",
        "!{('head -n 20 /content/output/account_count_file-00000-of-00001')}\n",
        "!{('head -n 20 /content/output/hr_count_file-00000-of-00001')}"
      ],
      "metadata": {
        "colab": {
          "base_uri": "https://localhost:8080/"
        },
        "id": "EFhEXb5zlxh3",
        "outputId": "dd85390b-f7a4-48f6-a994-7631e6be7cf5"
      },
      "execution_count": 56,
      "outputs": [
        {
          "output_type": "stream",
          "name": "stderr",
          "text": [
            "WARNING:apache_beam.io.filebasedsink:Deleting 1 existing files in target path matching: -*-of-%(num_shards)05d\n",
            "WARNING:apache_beam.io.filebasedsink:Deleting 1 existing files in target path matching: -*-of-%(num_shards)05d\n"
          ]
        },
        {
          "output_type": "stream",
          "name": "stdout",
          "text": [
            "Marco, 31, Regular employees\n",
            "Rebekah, 31, Regular employees\n",
            "Itoe, 31, Regular employees\n",
            "Edouard, 31, Regular employees\n",
            "Kyle, 62, Regular employees\n",
            "Kumiko, 31, Regular employees\n",
            "Gaston, 31, Regular employees\n",
            "Beryl, 62, Regular employees\n",
            "Olga, 31, Regular employees\n",
            "Leslie, 31, Regular employees\n",
            "Mindy, 31, Regular employees\n",
            "Vicky, 31, Regular employees\n",
            "Richard, 31, Regular employees\n",
            "Kirk, 31, Regular employees\n",
            "Kaori, 31, Regular employees\n",
            "Oscar, 31, Regular employees\n"
          ]
        }
      ]
    },
    {
      "cell_type": "code",
      "source": [
        "import apache_beam as beam\n",
        "p1 = beam.Pipeline()\n",
        "\n",
        "read_input = (\n",
        "    p1\n",
        "    |beam.io.ReadFromText('input/dept_data.txt')\n",
        "    |beam.Map(lambda record: record.split(','))\n",
        ")\n",
        "\n",
        "class MyTransform(beam.PTransform):\n",
        "  def expand(self, read_input):\n",
        "    out = (\n",
        "        read_input\n",
        "        |'group and sum' >> beam.CombinePerKey(sum)\n",
        "        |'filter 30 above' >> beam.Filter(filterOn)\n",
        "        |'formatted string output' >> beam.Map(formatOn)\n",
        "        )\n",
        "    return out\n",
        "\n",
        "def filterOn(element):\n",
        "  (key, value) = element\n",
        "  if value > 30:\n",
        "    return (key, value)\n",
        "\n",
        "def formatOn(element):\n",
        "  (name, count) = element\n",
        "  return ', '.join((name, str(count), 'Regular employees'))\n",
        "\n",
        "account_count = (\n",
        "    read_input\n",
        "    |beam.Filter(lambda record: record[3] == 'Accounts')\n",
        "    |beam.Map(lambda record: (record[1], 1))\n",
        "    |'account composite transform' >> MyTransform()\n",
        "    |'account write' >> beam.io.WriteToText('output/account_count_file')\n",
        ")\n",
        "\n",
        "hr_count = (\n",
        "    read_input\n",
        "    |beam.Filter(lambda record: record[3] == 'HR')\n",
        "    |beam.Map(lambda record: (record[1], 1))\n",
        "    |'hr composite transform' >> MyTransform()\n",
        "    |'hr write' >> beam.io.WriteToText('output/hr_count_file')\n",
        ")\n",
        "\n",
        "p1.run()\n",
        "\n",
        "!{('head -n 20 /content/output/account_count_file-00000-of-00001')}\n",
        "!{('head -n 20 /content/output/hr_count_file-00000-of-00001')}"
      ],
      "metadata": {
        "colab": {
          "base_uri": "https://localhost:8080/"
        },
        "id": "WHGyMTjE0SBl",
        "outputId": "15975643-a60d-4448-9217-0bdd906e94cc"
      },
      "execution_count": 60,
      "outputs": [
        {
          "output_type": "stream",
          "name": "stderr",
          "text": [
            "WARNING:apache_beam.io.filebasedsink:Deleting 1 existing files in target path matching: -*-of-%(num_shards)05d\n",
            "WARNING:apache_beam.io.filebasedsink:Deleting 1 existing files in target path matching: -*-of-%(num_shards)05d\n"
          ]
        },
        {
          "output_type": "stream",
          "name": "stdout",
          "text": [
            "Marco, 31, Regular employees\n",
            "Rebekah, 31, Regular employees\n",
            "Itoe, 31, Regular employees\n",
            "Edouard, 31, Regular employees\n",
            "Kyle, 62, Regular employees\n",
            "Kumiko, 31, Regular employees\n",
            "Gaston, 31, Regular employees\n",
            "Beryl, 62, Regular employees\n",
            "Olga, 31, Regular employees\n",
            "Leslie, 31, Regular employees\n",
            "Mindy, 31, Regular employees\n",
            "Vicky, 31, Regular employees\n",
            "Richard, 31, Regular employees\n",
            "Kirk, 31, Regular employees\n",
            "Kaori, 31, Regular employees\n",
            "Oscar, 31, Regular employees\n"
          ]
        }
      ]
    },
    {
      "cell_type": "code",
      "source": [],
      "metadata": {
        "id": "5c7Oqzup4QX7"
      },
      "execution_count": null,
      "outputs": []
    }
  ]
}